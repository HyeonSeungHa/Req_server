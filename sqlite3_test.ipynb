{
 "cells": [
  {
   "cell_type": "code",
   "execution_count": 2,
   "metadata": {},
   "outputs": [],
   "source": [
    "import sqlite3"
   ]
  },
  {
   "cell_type": "code",
   "execution_count": 15,
   "metadata": {},
   "outputs": [
    {
     "data": {
      "text/plain": [
       "<sqlite3.Cursor at 0x7f1ca8b8f940>"
      ]
     },
     "execution_count": 15,
     "metadata": {},
     "output_type": "execute_result"
    }
   ],
   "source": [
    "conn = sqlite3.connect('req_db.db')\n",
    "c = conn.cursor()\n",
    "\n",
    "c.execute('CREATE TABLE REQ_DATA (Task_id text, Gid text, end_point text);')"
   ]
  },
  {
   "cell_type": "code",
   "execution_count": 20,
   "metadata": {},
   "outputs": [],
   "source": [
    "conn.close()"
   ]
  },
  {
   "cell_type": "code",
   "execution_count": 46,
   "metadata": {},
   "outputs": [],
   "source": [
    "conn.close()"
   ]
  },
  {
   "cell_type": "code",
   "execution_count": 32,
   "metadata": {},
   "outputs": [],
   "source": [
    "c.close()\n"
   ]
  },
  {
   "cell_type": "code",
   "execution_count": 39,
   "metadata": {},
   "outputs": [
    {
     "ename": "OperationalError",
     "evalue": "database is locked",
     "output_type": "error",
     "traceback": [
      "\u001b[0;31m---------------------------------------------------------------------------\u001b[0m",
      "\u001b[0;31mOperationalError\u001b[0m                          Traceback (most recent call last)",
      "\u001b[1;32m/home/ml/work/hhs/req_fastapi/sqlite3_test.ipynb Cell 5\u001b[0m line \u001b[0;36m4\n\u001b[1;32m      <a href='vscode-notebook-cell://ssh-remote%2B7b22686f73744e616d65223a223231312e3131382e302e313737222c2275736572223a226d6c222c22706f7274223a31393432327d/home/ml/work/hhs/req_fastapi/sqlite3_test.ipynb#W2sdnNjb2RlLXJlbW90ZQ%3D%3D?line=0'>1</a>\u001b[0m a \u001b[39m=\u001b[39m \u001b[39m'\u001b[39m\u001b[39mtest\u001b[39m\u001b[39m'\u001b[39m\n\u001b[1;32m      <a href='vscode-notebook-cell://ssh-remote%2B7b22686f73744e616d65223a223231312e3131382e302e313737222c2275736572223a226d6c222c22706f7274223a31393432327d/home/ml/work/hhs/req_fastapi/sqlite3_test.ipynb#W2sdnNjb2RlLXJlbW90ZQ%3D%3D?line=1'>2</a>\u001b[0m b \u001b[39m=\u001b[39m \u001b[39m'\u001b[39m\u001b[39mS01-IM-1001-0001-CUST_REQ_ATP_DTA-0006-9921\u001b[39m\u001b[39m'\u001b[39m\n\u001b[0;32m----> <a href='vscode-notebook-cell://ssh-remote%2B7b22686f73744e616d65223a223231312e3131382e302e313737222c2275736572223a226d6c222c22706f7274223a31393432327d/home/ml/work/hhs/req_fastapi/sqlite3_test.ipynb#W2sdnNjb2RlLXJlbW90ZQ%3D%3D?line=3'>4</a>\u001b[0m c\u001b[39m.\u001b[39;49mexecute(\u001b[39m'\u001b[39;49m\u001b[39mINSERT INTO TEST Values(:user, :gid);\u001b[39;49m\u001b[39m'\u001b[39;49m, {\u001b[39m'\u001b[39;49m\u001b[39muser\u001b[39;49m\u001b[39m'\u001b[39;49m:a, \u001b[39m'\u001b[39;49m\u001b[39mgid\u001b[39;49m\u001b[39m'\u001b[39;49m:b})\n",
      "\u001b[0;31mOperationalError\u001b[0m: database is locked"
     ]
    }
   ],
   "source": [
    "a = 'test'\n",
    "b = 'S01-IM-1001-0001-CUST_REQ_ATP_DTA-0006-9921'\n",
    "\n",
    "c.execute('INSERT INTO TEST Values(:user, :gid);', {'user':a, 'gid':b})"
   ]
  },
  {
   "cell_type": "code",
   "execution_count": 40,
   "metadata": {},
   "outputs": [
    {
     "name": "stdout",
     "output_type": "stream",
     "text": [
      "[('abc7d734-4018-5923-b19c-9afee40cf366', 'S01-IM-1001-0001-TEST-0001-0077', '/extract_spectro_png/log')]\n"
     ]
    }
   ],
   "source": [
    "conn = sqlite3.connect('req_db.db')\n",
    "cur = conn.cursor()\n",
    "\n",
    "cur.execute('SELECT * FROM REQ_DATA')\n",
    "row = cur.fetchall()\n",
    "print(row)"
   ]
  },
  {
   "cell_type": "code",
   "execution_count": 43,
   "metadata": {},
   "outputs": [],
   "source": [
    "conn.close()"
   ]
  },
  {
   "cell_type": "code",
   "execution_count": 14,
   "metadata": {},
   "outputs": [],
   "source": [
    "from task import *"
   ]
  },
  {
   "cell_type": "code",
   "execution_count": 15,
   "metadata": {},
   "outputs": [],
   "source": [
    "task_id = 'abc7d734-4018-5923-b19c-9afee40cf366'"
   ]
  },
  {
   "cell_type": "code",
   "execution_count": 16,
   "metadata": {},
   "outputs": [
    {
     "data": {
      "text/plain": [
       "{'task_id': 'abc7d734-4018-5923-b19c-9afee40cf366',\n",
       " 'gid': 'S01-IM-1001-0001-TEST-0001-0077',\n",
       " 'end_point': 'S01-IM-1001-0001-TEST-0001-0077'}"
      ]
     },
     "execution_count": 16,
     "metadata": {},
     "output_type": "execute_result"
    }
   ],
   "source": [
    "result = get_data(task_id=task_id)\n",
    "result"
   ]
  },
  {
   "cell_type": "code",
   "execution_count": 11,
   "metadata": {},
   "outputs": [],
   "source": [
    "task_id = 'abc7d734-4018-5923-b19c-9afee40cf366'\n",
    "conn = sqlite3.connect('req_db.db')\n",
    "cur = conn.cursor()\n",
    "\n",
    "cur.execute(f'SELECT * FROM REQ_DATA WHERE task_id = \"{task_id}\"')\n",
    "\n",
    "row = cur.fetchall()\n",
    "conn.close()\n",
    "\n",
    "result = {'taks_id': row[0][0], 'gid': row[0][1], 'end_point': row[0][1]}"
   ]
  },
  {
   "cell_type": "code",
   "execution_count": 13,
   "metadata": {},
   "outputs": [
    {
     "data": {
      "text/plain": [
       "dict"
      ]
     },
     "execution_count": 13,
     "metadata": {},
     "output_type": "execute_result"
    }
   ],
   "source": [
    "type(result)"
   ]
  },
  {
   "cell_type": "code",
   "execution_count": null,
   "metadata": {},
   "outputs": [],
   "source": []
  },
  {
   "cell_type": "code",
   "execution_count": 42,
   "metadata": {},
   "outputs": [
    {
     "name": "stdout",
     "output_type": "stream",
     "text": [
      "[('S01-IM-1001-0001-TEST-0001-0077',)]\n"
     ]
    }
   ],
   "source": [
    "conn = sqlite3.connect('req_db.db')\n",
    "cur = conn.cursor()\n",
    "task_id = 'abc7d734-4018-5923-b19c-9afee40cf366'\n",
    "cur.execute(f'SELECT gid FROM REQ_DATA WHERE task_id = \"{task_id}\"')\n",
    "row = cur.fetchall()\n",
    "print(row)"
   ]
  },
  {
   "cell_type": "code",
   "execution_count": 47,
   "metadata": {},
   "outputs": [
    {
     "data": {
      "text/plain": [
       "'S01-IM-1001-0001-TEST-0001-0077'"
      ]
     },
     "execution_count": 47,
     "metadata": {},
     "output_type": "execute_result"
    }
   ],
   "source": [
    "row[0][0]"
   ]
  },
  {
   "cell_type": "code",
   "execution_count": 29,
   "metadata": {},
   "outputs": [
    {
     "name": "stdout",
     "output_type": "stream",
     "text": [
      "('Task_id', None, None, None, None, None, None)\n",
      "('Gid', None, None, None, None, None, None)\n",
      "('end_point', None, None, None, None, None, None)\n"
     ]
    }
   ],
   "source": [
    "for i in cur.description:\n",
    "    print(i)"
   ]
  },
  {
   "cell_type": "code",
   "execution_count": null,
   "metadata": {},
   "outputs": [
    {
     "data": {
      "text/plain": [
       "[]"
      ]
     },
     "execution_count": 59,
     "metadata": {},
     "output_type": "execute_result"
    }
   ],
   "source": [
    "conn = sqlite3.connect('req_db.db')\n",
    "cur = conn.cursor()\n",
    "\n",
    "cur.execute('SELECT * FROM REQ_DATA')\n",
    "cur.close()"
   ]
  },
  {
   "cell_type": "code",
   "execution_count": 7,
   "metadata": {},
   "outputs": [
    {
     "data": {
      "text/plain": [
       "<sqlite3.Cursor at 0x7f4b9c26b8c0>"
      ]
     },
     "execution_count": 7,
     "metadata": {},
     "output_type": "execute_result"
    }
   ],
   "source": [
    "c.execute('DELETE FROM TEST WHERE user = :user;', {'user':a})"
   ]
  },
  {
   "cell_type": "code",
   "execution_count": 11,
   "metadata": {},
   "outputs": [],
   "source": [
    "a = {'task_id': 'f1eaba90-35f4-5786-96da-40a9cf855e95', 'upload_gid': 'S01-IM-1001-0001-TEST-0001-0071', 'req_info': {'gid': 'S01-IM-1001-0001-CUST_REQ_ATP_DTA-0006-9921', 'is_dev_file': 0, 'file_key': 'TEST', 'usr_mngt_unq_no': 'string', 'anls_req_seq': 'string', 'result_url': 'http://211.118.0.177:8888/req/', 'data_gb': 'string', 'stdd_qlty_mtrx_seq': 'string', 'scale': 'log', 'end_point': '/extract_spectro_png/log'}, 'working_time': 1.090914249420166, 'create_date': '2023-11-03/, 16:39:49'}"
   ]
  },
  {
   "cell_type": "code",
   "execution_count": 13,
   "metadata": {},
   "outputs": [
    {
     "data": {
      "text/plain": [
       "'/extract_spectro_png/log'"
      ]
     },
     "execution_count": 13,
     "metadata": {},
     "output_type": "execute_result"
    }
   ],
   "source": [
    "a['req_info']['end_point']"
   ]
  },
  {
   "cell_type": "code",
   "execution_count": 28,
   "metadata": {},
   "outputs": [],
   "source": [
    "conn.close()"
   ]
  }
 ],
 "metadata": {
  "kernelspec": {
   "display_name": "venv",
   "language": "python",
   "name": "python3"
  },
  "language_info": {
   "codemirror_mode": {
    "name": "ipython",
    "version": 3
   },
   "file_extension": ".py",
   "mimetype": "text/x-python",
   "name": "python",
   "nbconvert_exporter": "python",
   "pygments_lexer": "ipython3",
   "version": "3.10.12"
  }
 },
 "nbformat": 4,
 "nbformat_minor": 2
}
